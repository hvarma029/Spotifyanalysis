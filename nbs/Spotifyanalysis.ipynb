{
 "cells": [
  {
   "cell_type": "code",
   "execution_count": 268,
   "metadata": {},
   "outputs": [],
   "source": [
    "import numpy as np\n",
    "import matplotlib.pyplot as plt\n",
    "import pandas as pd\n",
    "from pyspark import SparkConf\n",
    "from pyspark.context import SparkContext\n",
    "from pyspark.sql import SparkSession\n",
    "from pyspark.sql.functions import *\n",
    "from pyspark.sql.types import *\n",
    "from pyspark.sql.functions import split, col, explode"
   ]
  },
  {
   "cell_type": "code",
   "execution_count": 269,
   "metadata": {},
   "outputs": [
    {
     "name": "stdout",
     "output_type": "stream",
     "text": [
      "Requirement already satisfied: mplcursors in /opt/conda/lib/python3.8/site-packages (0.5.3)\n",
      "Requirement already satisfied: matplotlib!=3.7.1,>=3.1 in /opt/conda/lib/python3.8/site-packages (from mplcursors) (3.3.2)\n",
      "Requirement already satisfied: kiwisolver>=1.0.1 in /opt/conda/lib/python3.8/site-packages (from matplotlib!=3.7.1,>=3.1->mplcursors) (1.3.1)\n",
      "Requirement already satisfied: pillow>=6.2.0 in /opt/conda/lib/python3.8/site-packages (from matplotlib!=3.7.1,>=3.1->mplcursors) (8.0.1)\n",
      "Requirement already satisfied: python-dateutil>=2.1 in /opt/conda/lib/python3.8/site-packages (from matplotlib!=3.7.1,>=3.1->mplcursors) (2.8.1)\n",
      "Requirement already satisfied: cycler>=0.10 in /opt/conda/lib/python3.8/site-packages (from matplotlib!=3.7.1,>=3.1->mplcursors) (0.10.0)\n",
      "Requirement already satisfied: numpy>=1.15 in /opt/conda/lib/python3.8/site-packages (from matplotlib!=3.7.1,>=3.1->mplcursors) (1.19.4)\n",
      "Requirement already satisfied: certifi>=2020.06.20 in /opt/conda/lib/python3.8/site-packages (from matplotlib!=3.7.1,>=3.1->mplcursors) (2020.6.20)\n",
      "Requirement already satisfied: pyparsing!=2.0.4,!=2.1.2,!=2.1.6,>=2.0.3 in /opt/conda/lib/python3.8/site-packages (from matplotlib!=3.7.1,>=3.1->mplcursors) (2.4.7)\n",
      "Requirement already satisfied: six>=1.5 in /opt/conda/lib/python3.8/site-packages (from python-dateutil>=2.1->matplotlib!=3.7.1,>=3.1->mplcursors) (1.15.0)\n",
      "Note: you may need to restart the kernel to use updated packages.\n"
     ]
    }
   ],
   "source": [
    "pip install mplcursors"
   ]
  },
  {
   "cell_type": "code",
   "execution_count": 270,
   "metadata": {},
   "outputs": [],
   "source": [
    "import mplcursors"
   ]
  },
  {
   "cell_type": "code",
   "execution_count": 271,
   "metadata": {},
   "outputs": [],
   "source": [
    "sc = SparkContext.getOrCreate(SparkConf().setMaster(\"local[*]\"))\n",
    "spark = SparkSession.builder.appName(\"SpotifyAnalysis\").master(\"spark://spark-master:7077\").getOrCreate()"
   ]
  },
  {
   "cell_type": "markdown",
   "metadata": {},
   "source": [
    "### Importing data"
   ]
  },
  {
   "cell_type": "code",
   "execution_count": 272,
   "metadata": {},
   "outputs": [],
   "source": [
    "data = spark.read.csv(\"hdfs://namenode:9000/data.csv\", header=True, inferSchema=True)\n",
    "data_by_artist = spark.read.csv(\"hdfs://namenode:9000/data_by_artist.csv\", header=True, inferSchema=True)\n",
    "data_by_genres = spark.read.csv(\"hdfs://namenode:9000/data_by_genres.csv\", header=True, inferSchema=True)\n",
    "data_by_year = spark.read.csv(\"hdfs://namenode:9000/data_by_year.csv\", header=True, inferSchema=True)\n",
    "data_w_genres = spark.read.csv(\"hdfs://namenode:9000/data_w_genres.csv\", header=True, inferSchema=True)"
   ]
  },
  {
   "cell_type": "markdown",
   "metadata": {},
   "source": [
    "### Data Preprocessing"
   ]
  },
  {
   "cell_type": "code",
   "execution_count": 273,
   "metadata": {},
   "outputs": [],
   "source": [
    "dropped_data_columns = [\"instrumentalness\", \"id\"]\n",
    "dropped_data_by_artist_columns = [\"instrumentalness\", \"mode\"]\n",
    "dropped_data_by_genres_columns = [\"instrumentalness\", \"speechiness\"]\n",
    "dropped_data_by_year_columns = [\"instrumentalness\", \"speechiness\", \"mode\"]\n",
    "dropped_data_w_genres = [\"instrumentalness\", \"speechiness\"]\n",
    "\n",
    "min_data = data.drop(*dropped_data_columns).dropna(how=\"all\")\n",
    "min_data_by_artist = data_by_artist.drop(*droppped_data_by_artist_columns).dropna(how=\"all\")\n",
    "min_data_by_genres = data_by_genres.drop(*dropped_data_by_genres_columns).dropna(how=\"all\")\n",
    "min_data_by_year = data_by_year.drop(*dropped_data_by_year_columns).dropna(how=\"all\")\n",
    "min_data_w_genres = data_w_genres.drop(*dropped_data_w_genres).dropna(how=\"all\")"
   ]
  },
  {
   "cell_type": "markdown",
   "metadata": {},
   "source": [
    "### Creating tables and views"
   ]
  },
  {
   "cell_type": "code",
   "execution_count": 274,
   "metadata": {},
   "outputs": [],
   "source": [
    "min_data.createOrReplaceTempView(\"data\")\n",
    "min_data_by_artist.createOrReplaceTempView(\"data_by_artist\")\n",
    "min_data_by_genres.createOrReplaceTempView(\"data_by_genres\")\n",
    "min_data_by_year.createOrReplaceTempView(\"data_by_year\")\n",
    "min_data_w_genres.createOrReplaceTempView(\"data_w_genres\")"
   ]
  },
  {
   "cell_type": "markdown",
   "metadata": {},
   "source": [
    "## Complex Queries"
   ]
  },
  {
   "cell_type": "markdown",
   "metadata": {},
   "source": [
    "#### Average popularity by artist"
   ]
  },
  {
   "cell_type": "code",
   "execution_count": 275,
   "metadata": {},
   "outputs": [
    {
     "name": "stdout",
     "output_type": "stream",
     "text": [
      "+----------------+--------------+\n",
      "|         artists|avg_popularity|\n",
      "+----------------+--------------+\n",
      "|     Ritt Momney|          93.0|\n",
      "|       Lele Pons|          92.0|\n",
      "| Los Legendarios|          90.0|\n",
      "|        Jerry Di|          89.0|\n",
      "|       Surf Mesa|          88.0|\n",
      "|          Emilee|          88.0|\n",
      "|     salem ilese|          88.0|\n",
      "|             A7S|          87.0|\n",
      "|  Nomcebo Zikode|          86.0|\n",
      "|Sammy & Falsetto|          86.0|\n",
      "|          Osquel|          86.0|\n",
      "|         Beltito|          86.0|\n",
      "|    Lenny Santos|          86.0|\n",
      "|       Master KG|          86.0|\n",
      "|            Towy|          86.0|\n",
      "|        Octavian|          85.0|\n",
      "|          Angèle|          85.0|\n",
      "|            HVME|          85.0|\n",
      "|       Jawsh 685|          85.0|\n",
      "|      THE SCOTTS|          85.0|\n",
      "+----------------+--------------+\n",
      "only showing top 20 rows\n",
      "\n"
     ]
    }
   ],
   "source": [
    "spark.sql(\"\"\"\n",
    "    SELECT \n",
    "        a.artists,\n",
    "        AVG(a.popularity) AS avg_popularity\n",
    "    FROM \n",
    "        data_by_artist a\n",
    "    JOIN \n",
    "        data_by_genres g ON a.key = g.key\n",
    "    GROUP BY \n",
    "        a.artists\n",
    "    HAVING \n",
    "        AVG(a.popularity) > 60  -- Example threshold\n",
    "    ORDER BY \n",
    "        avg_popularity DESC\n",
    "\"\"\").show()\n",
    "#Average popularity by artist: calculates average popularity for each artist \n",
    "#across different genres "
   ]
  },
  {
   "cell_type": "markdown",
   "metadata": {},
   "source": [
    "#### Genre influence on popularity"
   ]
  },
  {
   "cell_type": "code",
   "execution_count": 276,
   "metadata": {},
   "outputs": [
    {
     "name": "stdout",
     "output_type": "stream",
     "text": [
      "+--------------------+----+------------------+\n",
      "|              genres|year|    avg_popularity|\n",
      "+--------------------+----+------------------+\n",
      "|            basshall|1921| 80.66666666666666|\n",
      "|       ritmo kombina|1921| 76.33333333333333|\n",
      "|             dong-yo|1921|              70.0|\n",
      "|german undergroun...|1921|              67.0|\n",
      "|                alte|1921|              66.0|\n",
      "|  musica afroperuana|1921|              65.0|\n",
      "|        gujarati pop|1921|              64.0|\n",
      "|      australian r&b|1921|             62.25|\n",
      "|         rebel blues|1921| 61.54933333333334|\n",
      "|         indian folk|1921|              60.5|\n",
      "|            pop soul|1921| 60.30357142857143|\n",
      "|    electronic djent|1921|             60.25|\n",
      "|           lo-fi vgm|1921|              60.0|\n",
      "|         marathi pop|1921|              59.0|\n",
      "| nashville americana|1921|             58.25|\n",
      "|      gaming dubstep|1921|              58.0|\n",
      "|          bath indie|1921|              58.0|\n",
      "|        chinese jazz|1921|              58.0|\n",
      "|      rap conciencia|1921|57.830847953216384|\n",
      "|           j-poprock|1921| 57.40855654761905|\n",
      "+--------------------+----+------------------+\n",
      "only showing top 20 rows\n",
      "\n"
     ]
    }
   ],
   "source": [
    "spark.sql(\"\"\"\n",
    "    SELECT \n",
    "        g.genres,\n",
    "        y.year,\n",
    "        AVG(g.popularity) AS avg_popularity\n",
    "    FROM \n",
    "        data_by_genres g\n",
    "    JOIN \n",
    "        data_by_year y ON g.key = y.key\n",
    "    GROUP BY \n",
    "        g.genres, y.year\n",
    "    ORDER BY \n",
    "        y.year ASC, avg_popularity DESC\n",
    "\"\"\").show()\n",
    "#How genre influences average popularity overtime"
   ]
  },
  {
   "cell_type": "markdown",
   "metadata": {},
   "source": [
    "#### Instumentalness vs. Popularity across artists"
   ]
  },
  {
   "cell_type": "code",
   "execution_count": 277,
   "metadata": {
    "scrolled": true
   },
   "outputs": [
    {
     "name": "stdout",
     "output_type": "stream",
     "text": [
      "+-------------------+--------------------+--------------+---------+\n",
      "|             artist|avg_instrumentalness|avg_popularity|num_songs|\n",
      "+-------------------+--------------------+--------------+---------+\n",
      "|               Coda|                 0.0|          61.0|        1|\n",
      "|       Liz Callaway|             1.46E-6|          41.0|        1|\n",
      "|      Andrae Crouch|                 0.0|          31.0|        1|\n",
      "|       Commissioned|                 0.0|          31.0|        1|\n",
      "|       Patti Austin|                 0.0|          31.0|        1|\n",
      "|        Daryl Coley|                 0.0|          31.0|        1|\n",
      "|POLYPHON WITH BELLS|             0.00107|          24.0|        1|\n",
      "|        Zero Mostel|                 0.0|          16.0|        1|\n",
      "|        Johnny Cash|                 0.0|           8.0|        1|\n",
      "|           Dave Koz|                 0.0|           4.0|        1|\n",
      "|     Brownie McGhee|        0.0118548175|          2.75|        4|\n",
      "+-------------------+--------------------+--------------+---------+\n",
      "\n"
     ]
    }
   ],
   "source": [
    "# This will replace the brackets and split the string into an array\n",
    "data = data.withColumn(\"artists\", split(col(\"artists\"), \",\\s*\"))  # Split on comma\n",
    "\n",
    "# Now explode the artists column\n",
    "exploded_data = data.select(explode(data.artists).alias(\"artist\"), \"*\")\n",
    "exploded_data.createOrReplaceTempView(\"exploded_data\")\n",
    "\n",
    "# Now use the exploded DataFrame for the join\n",
    "query_3 = spark.sql(\"\"\"\n",
    "    SELECT \n",
    "        ed.artist AS artist, \n",
    "        AVG(ed.instrumentalness) AS avg_instrumentalness, \n",
    "        AVG(ed.popularity) AS avg_popularity, \n",
    "        COUNT(ed.name) AS num_songs\n",
    "    FROM \n",
    "        exploded_data ed\n",
    "    JOIN \n",
    "        data_by_artist da\n",
    "    ON \n",
    "        ed.artist = da.artists\n",
    "    WHERE \n",
    "        ed.popularity > 0  -- No filtering for popularity to see results\n",
    "    GROUP BY \n",
    "        ed.artist\n",
    "    ORDER BY \n",
    "        avg_popularity DESC\n",
    "\"\"\").show()\n"
   ]
  },
  {
   "cell_type": "markdown",
   "metadata": {},
   "source": [
    "#### Correlations between Loudness and energy in popular songs"
   ]
  },
  {
   "cell_type": "code",
   "execution_count": 278,
   "metadata": {
    "scrolled": false
   },
   "outputs": [
    {
     "name": "stdout",
     "output_type": "stream",
     "text": [
      "+--------------------+--------------------+-------------+-------------------+---------------+\n",
      "|              artist|           song_name|song_loudness|        song_energy|song_popularity|\n",
      "+--------------------+--------------------+-------------+-------------------+---------------+\n",
      "|Fear, and Loathin...|         Let Me Hear|        1.023|             0.9875|             64|\n",
      "|          Lil Darkie|            GENOCIDE|        0.457| 0.8956666666666666|             70|\n",
      "|          The Police|Every Little Thin...|       -9.997| 0.6871311475409836|             73|\n",
      "|    Sleeping At Last|        Already Gone|       -9.997|            0.24385|             75|\n",
      "|      Blonde Redhead|For the Damaged Coda|       -9.995|0.33399999999999996|             61|\n",
      "|              T. Rex|Bang a Gong (Get ...|       -9.992|            0.64025|             63|\n",
      "|               Wings|    Live And Let Die|       -9.988| 0.4909221311475409|             64|\n",
      "|        Night Lovell|          Dark Light|       -9.985| 0.5533600000000001|             72|\n",
      "|  The Avett Brothers|  I And Love And You|       -9.984| 0.4156176470588235|             64|\n",
      "|           Indochine|        L'aventurier|       -9.982|              0.846|             62|\n",
      "|             Alabama|      Mountain Music|       -9.982|             0.4602|             61|\n",
      "|               Lorde|          The Louvre|       -9.977| 0.4778024691358019|             63|\n",
      "| The Backseat Lovers|          Kilby Girl|       -9.973|              0.444|             71|\n",
      "|     Luther Vandross|Dance With My Father|       -9.971| 0.4648936170212765|             62|\n",
      "|         Iron & Wine|    Call It Dreaming|       -9.971|0.31717142857142844|             64|\n",
      "|Creedence Clearwa...|Have You Ever See...|        -9.97| 0.6572151898734181|             65|\n",
      "|      StaySolidRocky|          Party Girl|       -9.966|              0.423|             84|\n",
      "|            The Cars|               Drive|       -9.961| 0.6886229508196727|             69|\n",
      "|               Queen|Bohemian Rhapsody...|       -9.961| 0.6023400977995113|             74|\n",
      "|                Lobo|I'd Love You to W...|        -9.96|             0.4375|             66|\n",
      "+--------------------+--------------------+-------------+-------------------+---------------+\n",
      "only showing top 20 rows\n",
      "\n"
     ]
    }
   ],
   "source": [
    "query_4 = spark.sql(\"\"\"\n",
    "    SELECT \n",
    "        regexp_replace(d.artists, '\\\\\\\\[|\\\\\\\\]|\\\\'','') AS artist,  -- Escape brackets and quotes\n",
    "        d.name AS song_name, \n",
    "        d.loudness AS song_loudness, \n",
    "        da.energy AS song_energy, \n",
    "        d.popularity AS song_popularity\n",
    "    FROM \n",
    "        data d\n",
    "    JOIN \n",
    "        data_by_artist da\n",
    "    ON \n",
    "        regexp_replace(d.artists, '\\\\\\\\[|\\\\\\\\]|\\\\'','') = da.artists  -- Match cleaned artist strings\n",
    "    WHERE \n",
    "        d.popularity > 60  -- Focusing on popular songs\n",
    "    ORDER BY \n",
    "        d.loudness DESC, da.energy DESC\n",
    "\"\"\").show()\n",
    "#Correlations between loudness and energy in popular songs"
   ]
  },
  {
   "cell_type": "markdown",
   "metadata": {},
   "source": [
    "## Simple Queries"
   ]
  },
  {
   "cell_type": "markdown",
   "metadata": {},
   "source": [
    "#### Top Genres by Danceability and Energy"
   ]
  },
  {
   "cell_type": "code",
   "execution_count": 279,
   "metadata": {
    "scrolled": true
   },
   "outputs": [
    {
     "name": "stdout",
     "output_type": "stream",
     "text": [
      "+--------------------+------------------+------------------+\n",
      "|              genres|  avg_danceability|        avg_energy|\n",
      "+--------------------+------------------+------------------+\n",
      "|  experimental house|             0.929|             0.573|\n",
      "|          guam indie|              0.92|             0.319|\n",
      "|       dutch hip hop|0.9109999999999999|             0.635|\n",
      "|       dutch rap pop|            0.9074|0.7092666666666666|\n",
      "|british children'...|             0.906|             0.596|\n",
      "|    indie deutschrap|             0.903|             0.253|\n",
      "|     trance mexicano|             0.902|0.8370000000000001|\n",
      "|            footwork|             0.897|             0.568|\n",
      "|       funk paulista|0.8959999999999999|             0.675|\n",
      "|           proto-rap|             0.893|             0.515|\n",
      "+--------------------+------------------+------------------+\n",
      "\n"
     ]
    },
    {
     "data": {
      "image/png": "[encoded data removed]",
      "text/plain": [
       "<Figure size 720x432 with 1 Axes>"
      ]
     },
     "metadata": {
      "needs_background": "light"
     },
     "output_type": "display_data"
    }
   ],
   "source": [
    "query1 = spark.sql(\"\"\"\n",
    "    SELECT genres, AVG(danceability) AS avg_danceability, AVG(energy) AS avg_energy\n",
    "    FROM data_by_genres\n",
    "    GROUP BY genres\n",
    "    ORDER BY avg_danceability DESC, avg_energy DESC\n",
    "    LIMIT 10\n",
    "\"\"\")\n",
    "query1.show()\n",
    "\n",
    "df1 = query1.toPandas()\n",
    "\n",
    "#Plotting\n",
    "plt.figure(figsize=(10, 6))\n",
    "plt.barh(df1[\"genres\"], df1[\"avg_danceability\"], color=\"blue\", label=\"Danceability\")\n",
    "plt.barh(df1[\"genres\"], df1[\"avg_energy\"], color=\"yellow\", alpha=0.5, label=\"Energy\")\n",
    "plt.xlabel(\"Average Danceability and Energy\")\n",
    "plt.ylabel(\"Genres\")\n",
    "plt.title(\"Top Genres by Danceability and Energy\")\n",
    "plt.legend()\n",
    "mplcursors.cursor(hover=True)\n",
    "plt.show()"
   ]
  },
  {
   "cell_type": "markdown",
   "metadata": {},
   "source": [
    "#### Longest Songs by Genres"
   ]
  },
  {
   "cell_type": "code",
   "execution_count": 280,
   "metadata": {
    "scrolled": true
   },
   "outputs": [
    {
     "name": "stdout",
     "output_type": "stream",
     "text": [
      "+--------------------+------------------+\n",
      "|              genres| avg_duration_mins|\n",
      "+--------------------+------------------+\n",
      "|bulgarian experim...| 39.70977777777777|\n",
      "|histoire pour enf...|27.033333333333335|\n",
      "|musique pour enfants|27.033333333333335|\n",
      "|             oratory|          24.48805|\n",
      "|          microtonal|20.144441666666665|\n",
      "|               432hz| 17.48145555555555|\n",
      "|      hungarian folk|12.224261111111108|\n",
      "|  magyar alternative|12.224261111111108|\n",
      "|progressive power...|11.939116666666667|\n",
      "|  canadian post-rock| 11.15123888888889|\n",
      "+--------------------+------------------+\n",
      "\n"
     ]
    },
    {
     "data": {
      "image/png": "[encoded data removed]",
      "text/plain": [
       "<Figure size 720x432 with 1 Axes>"
      ]
     },
     "metadata": {
      "needs_background": "light"
     },
     "output_type": "display_data"
    }
   ],
   "source": [
    "query2 = spark.sql(\"\"\"\n",
    "    SELECT genres, AVG(duration_ms)/60000 AS avg_duration_mins\n",
    "    FROM data_by_genres\n",
    "    GROUP BY genres\n",
    "    ORDER BY avg_duration_mins DESC\n",
    "    LIMIT 10\n",
    "\"\"\")\n",
    "query2.show()\n",
    "\n",
    "query2_df = query2.toPandas()\n",
    "\n",
    "plt.figure(figsize=(10, 6))\n",
    "plt.barh(query2_df[\"genres\"], query2_df[\"avg_duration_mins\"], color=\"purple\")\n",
    "plt.xlabel(\"Average Songs Duration (minutes)\")\n",
    "plt.ylabel(\"Genres\")\n",
    "plt.title(\"Longest Songs by Genres\")\n",
    "#plt.gca().invert_yaxis()\n",
    "mplcursors.cursor(hover=True)\n",
    "plt.show()\n",
    "#longest songs by genre"
   ]
  },
  {
   "cell_type": "markdown",
   "metadata": {},
   "source": [
    "#### Top10 Most Danceable Songs"
   ]
  },
  {
   "cell_type": "code",
   "execution_count": 281,
   "metadata": {
    "scrolled": true
   },
   "outputs": [
    {
     "name": "stdout",
     "output_type": "stream",
     "text": [
      "+----+--------------------+----------------+----------+\n",
      "|year|             artists|max_danceability|song_count|\n",
      "+----+--------------------+----------------+----------+\n",
      "|1989|        ['Tone-Loc']|           0.988|         3|\n",
      "|2012|['Pitbull', 'Trin...|           0.986|         1|\n",
      "|2007|['Young Boss', 'T...|           0.986|         1|\n",
      "|2018|      ['ITSOKTOCRY']|           0.985|         1|\n",
      "|2015|      ['Astra Teck']|           0.983|         2|\n",
      "|1997|       ['Daft Punk']|            0.98|        12|\n",
      "|2020|        ['347aidan']|            0.98|         1|\n",
      "|1984|['The Jacksons', ...|            0.98|         1|\n",
      "|1990|     ['Vanilla Ice']|            0.98|         3|\n",
      "|2017|    ['XXXTENTACION']|           0.979|        18|\n",
      "+----+--------------------+----------------+----------+\n",
      "\n"
     ]
    },
    {
     "data": {
      "image/png": "[encoded data removed]",
      "text/plain": [
       "<Figure size 720x432 with 1 Axes>"
      ]
     },
     "metadata": {
      "needs_background": "light"
     },
     "output_type": "display_data"
    }
   ],
   "source": [
    "query3 = spark.sql(\"\"\"\n",
    "    SELECT year, artists, MAX(danceability) AS max_danceability, COUNT(name) as song_count\n",
    "    FROM data \n",
    "    GROUP BY year, artists\n",
    "    ORDER BY max_danceability DESC\n",
    "    LIMIT 10\n",
    "\"\"\")\n",
    "query3.show()\n",
    "\n",
    "query3_df = query3.toPandas()\n",
    "\n",
    "plt.figure(figsize=(10, 6))\n",
    "plt.barh(query3_df[\"artists\"], query3_df[\"max_danceability\"], color=\"green\")\n",
    "plt.xlabel(\"Danceability\")\n",
    "plt.ylabel(\"Artists\")\n",
    "plt.title(\"Top 10 Most Danceable Songs\")\n",
    "plt.gca().invert_yaxis()\n",
    "mplcursors.cursor(hover=True)\n",
    "plt.show()\n",
    "\n",
    "#Top10 most danceable songs by year"
   ]
  },
  {
   "cell_type": "code",
   "execution_count": null,
   "metadata": {},
   "outputs": [],
   "source": []
  }
 ],
 "metadata": {
  "kernelspec": {
   "display_name": "Python 3",
   "language": "python",
   "name": "python3"
  },
  "language_info": {
   "codemirror_mode": {
    "name": "ipython",
    "version": 3
   },
   "file_extension": ".py",
   "mimetype": "text/x-python",
   "name": "python",
   "nbconvert_exporter": "python",
   "pygments_lexer": "ipython3",
   "version": "3.8.6"
  }
 },
 "nbformat": 4,
 "nbformat_minor": 4
}
