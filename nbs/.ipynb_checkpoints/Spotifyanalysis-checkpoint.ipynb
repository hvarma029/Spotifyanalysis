{
 "cells": [
  {
   "cell_type": "code",
   "execution_count": 258,
   "metadata": {},
   "outputs": [],
   "source": [
    "import numpy as np\n",
    "import matplotlib.pyplot as plt\n",
    "import pandas as pd\n",
    "from pyspark import SparkConf\n",
    "from pyspark.context import SparkContext\n",
    "from pyspark.sql import SparkSession\n",
    "from pyspark.sql.functions import *\n",
    "from pyspark.sql.types import *\n",
    "from pyspark.sql.functions import split, col, explode"
   ]
  },
  {
   "cell_type": "code",
   "execution_count": 259,
   "metadata": {},
   "outputs": [
    {
     "name": "stdout",
     "output_type": "stream",
     "text": [
      "Requirement already satisfied: mplcursors in /opt/conda/lib/python3.8/site-packages (0.5.3)\n",
      "Requirement already satisfied: matplotlib!=3.7.1,>=3.1 in /opt/conda/lib/python3.8/site-packages (from mplcursors) (3.3.2)\n",
      "Requirement already satisfied: pillow>=6.2.0 in /opt/conda/lib/python3.8/site-packages (from matplotlib!=3.7.1,>=3.1->mplcursors) (8.0.1)\n",
      "Requirement already satisfied: certifi>=2020.06.20 in /opt/conda/lib/python3.8/site-packages (from matplotlib!=3.7.1,>=3.1->mplcursors) (2020.6.20)\n",
      "Requirement already satisfied: pyparsing!=2.0.4,!=2.1.2,!=2.1.6,>=2.0.3 in /opt/conda/lib/python3.8/site-packages (from matplotlib!=3.7.1,>=3.1->mplcursors) (2.4.7)\n",
      "Requirement already satisfied: python-dateutil>=2.1 in /opt/conda/lib/python3.8/site-packages (from matplotlib!=3.7.1,>=3.1->mplcursors) (2.8.1)\n",
      "Requirement already satisfied: kiwisolver>=1.0.1 in /opt/conda/lib/python3.8/site-packages (from matplotlib!=3.7.1,>=3.1->mplcursors) (1.3.1)\n",
      "Requirement already satisfied: numpy>=1.15 in /opt/conda/lib/python3.8/site-packages (from matplotlib!=3.7.1,>=3.1->mplcursors) (1.19.4)\n",
      "Requirement already satisfied: cycler>=0.10 in /opt/conda/lib/python3.8/site-packages (from matplotlib!=3.7.1,>=3.1->mplcursors) (0.10.0)\n",
      "Requirement already satisfied: six>=1.5 in /opt/conda/lib/python3.8/site-packages (from python-dateutil>=2.1->matplotlib!=3.7.1,>=3.1->mplcursors) (1.15.0)\n",
      "Note: you may need to restart the kernel to use updated packages.\n"
     ]
    }
   ],
   "source": [
    "pip install mplcursors"
   ]
  },
  {
   "cell_type": "code",
   "execution_count": 260,
   "metadata": {},
   "outputs": [],
   "source": [
    "import mplcursors"
   ]
  },
  {
   "cell_type": "code",
   "execution_count": 261,
   "metadata": {},
   "outputs": [],
   "source": [
    "sc = SparkContext.getOrCreate(SparkConf().setMaster(\"local[*]\"))\n",
    "spark = SparkSession.builder.appName(\"SpotifyAnalysis\").master(\"spark://spark-master:7077\").getOrCreate()"
   ]
  },
  {
   "cell_type": "markdown",
   "metadata": {},
   "source": [
    "### Importing data"
   ]
  },
  {
   "cell_type": "code",
   "execution_count": 262,
   "metadata": {},
   "outputs": [],
   "source": [
    "data = spark.read.csv(\"hdfs://namenode:9000/data.csv\", header=True, inferSchema=True)\n",
    "data_by_artist = spark.read.csv(\"hdfs://namenode:9000/data_by_artist.csv\", header=True, inferSchema=True)\n",
    "data_by_genres = spark.read.csv(\"hdfs://namenode:9000/data_by_genres.csv\", header=True, inferSchema=True)\n",
    "data_by_year = spark.read.csv(\"hdfs://namenode:9000/data_by_year.csv\", header=True, inferSchema=True)\n",
    "data_w_genres = spark.read.csv(\"hdfs://namenode:9000/data_w_genres.csv\", header=True, inferSchema=True)"
   ]
  },
  {
   "cell_type": "markdown",
   "metadata": {},
   "source": [
    "### Data Preprocessing"
   ]
  },
  {
   "cell_type": "code",
   "execution_count": 263,
   "metadata": {},
   "outputs": [],
   "source": [
    "dropped_data_columns = [\"instrumentalness\", \"id\"]\n",
    "dropped_data_by_artist_columns = [\"instrumentalness\", \"mode\"]\n",
    "dropped_data_by_genres_columns = [\"instrumentalness\", \"speechiness\"]\n",
    "dropped_data_by_year_columns = [\"instrumentalness\", \"speechiness\", \"mode\"]\n",
    "dropped_data_w_genres = [\"instrumentalness\", \"speechiness\"]\n",
    "\n",
    "min_data = data.drop(*dropped_data_columns).dropna(how=\"all\")\n",
    "min_data_by_artist = data_by_artist.drop(*droppped_data_by_artist_columns).dropna(how=\"all\")\n",
    "min_data_by_genres = data_by_genres.drop(*dropped_data_by_genres_columns).dropna(how=\"all\")\n",
    "min_data_by_year = data_by_year.drop(*dropped_data_by_year_columns).dropna(how=\"all\")\n",
    "min_data_w_genres = data_w_genres.drop(*dropped_data_w_genres).dropna(how=\"all\")"
   ]
  },
  {
   "cell_type": "markdown",
   "metadata": {},
   "source": [
    "### Creating tables and views"
   ]
  },
  {
   "cell_type": "code",
   "execution_count": 264,
   "metadata": {},
   "outputs": [],
   "source": [
    "min_data.createOrReplaceTempView(\"data\")\n",
    "min_data_by_artist.createOrReplaceTempView(\"data_by_artist\")\n",
    "min_data_by_genres.createOrReplaceTempView(\"data_by_genres\")\n",
    "min_data_by_year.createOrReplaceTempView(\"data_by_year\")\n",
    "min_data_w_genres.createOrReplaceTempView(\"data_w_genres\")"
   ]
  },
  {
   "cell_type": "markdown",
   "metadata": {},
   "source": [
    "## Complex Queries"
   ]
  },
  {
   "cell_type": "markdown",
   "metadata": {},
   "source": [
    "#### Average popularity by artist"
   ]
  },
  {
   "cell_type": "code",
   "execution_count": 265,
   "metadata": {},
   "outputs": [
    {
     "name": "stdout",
     "output_type": "stream",
     "text": [
      "+----------------+--------------+\n",
      "|         artists|avg_popularity|\n",
      "+----------------+--------------+\n",
      "|     Ritt Momney|          93.0|\n",
      "|       Lele Pons|          92.0|\n",
      "| Los Legendarios|          90.0|\n",
      "|        Jerry Di|          89.0|\n",
      "|     salem ilese|          88.0|\n",
      "|       Surf Mesa|          88.0|\n",
      "|          Emilee|          88.0|\n",
      "|             A7S|          87.0|\n",
      "|Sammy & Falsetto|          86.0|\n",
      "|    Lenny Santos|          86.0|\n",
      "|          Osquel|          86.0|\n",
      "|  Nomcebo Zikode|          86.0|\n",
      "|         Beltito|          86.0|\n",
      "|       Master KG|          86.0|\n",
      "|            Towy|          86.0|\n",
      "|            HVME|          85.0|\n",
      "|       Jawsh 685|          85.0|\n",
      "|        Octavian|          85.0|\n",
      "|          Angèle|          85.0|\n",
      "|      THE SCOTTS|          85.0|\n",
      "+----------------+--------------+\n",
      "only showing top 20 rows\n",
      "\n"
     ]
    }
   ],
   "source": [
    "spark.sql(\"\"\"\n",
    "    SELECT \n",
    "        a.artists,\n",
    "        AVG(a.popularity) AS avg_popularity\n",
    "    FROM \n",
    "        data_by_artist a\n",
    "    JOIN \n",
    "        data_by_genres g ON a.key = g.key\n",
    "    GROUP BY \n",
    "        a.artists\n",
    "    HAVING \n",
    "        AVG(a.popularity) > 60  -- Example threshold\n",
    "    ORDER BY \n",
    "        avg_popularity DESC\n",
    "\"\"\").show()\n",
    "#Average popularity by artist: calculates average popularity for each artist \n",
    "#across different genres "
   ]
  },
  {
   "cell_type": "markdown",
   "metadata": {},
   "source": [
    "#### Genre influence on popularity"
   ]
  },
  {
   "cell_type": "code",
   "execution_count": 266,
   "metadata": {},
   "outputs": [
    {
     "name": "stdout",
     "output_type": "stream",
     "text": [
      "+--------------------+----+------------------+\n",
      "|              genres|year|    avg_popularity|\n",
      "+--------------------+----+------------------+\n",
      "|            basshall|1921| 80.66666666666666|\n",
      "|       ritmo kombina|1921| 76.33333333333333|\n",
      "|             dong-yo|1921|              70.0|\n",
      "|german undergroun...|1921|              67.0|\n",
      "|                alte|1921|              66.0|\n",
      "|  musica afroperuana|1921|              65.0|\n",
      "|        gujarati pop|1921|              64.0|\n",
      "|      australian r&b|1921|             62.25|\n",
      "|         rebel blues|1921| 61.54933333333334|\n",
      "|         indian folk|1921|              60.5|\n",
      "|            pop soul|1921| 60.30357142857143|\n",
      "|    electronic djent|1921|             60.25|\n",
      "|           lo-fi vgm|1921|              60.0|\n",
      "|         marathi pop|1921|              59.0|\n",
      "| nashville americana|1921|             58.25|\n",
      "|        chinese jazz|1921|              58.0|\n",
      "|          bath indie|1921|              58.0|\n",
      "|      gaming dubstep|1921|              58.0|\n",
      "|      rap conciencia|1921|57.830847953216384|\n",
      "|           j-poprock|1921| 57.40855654761905|\n",
      "+--------------------+----+------------------+\n",
      "only showing top 20 rows\n",
      "\n"
     ]
    }
   ],
   "source": [
    "spark.sql(\"\"\"\n",
    "    SELECT \n",
    "        g.genres,\n",
    "        y.year,\n",
    "        AVG(g.popularity) AS avg_popularity\n",
    "    FROM \n",
    "        data_by_genres g\n",
    "    JOIN \n",
    "        data_by_year y ON g.key = y.key\n",
    "    GROUP BY \n",
    "        g.genres, y.year\n",
    "    ORDER BY \n",
    "        y.year ASC, avg_popularity DESC\n",
    "\"\"\").show()\n",
    "#How genre influences average popularity overtime"
   ]
  },
  {
   "cell_type": "markdown",
   "metadata": {},
   "source": [
    "#### Instumentalness vs. Popularity across artists"
   ]
  },
  {
   "cell_type": "code",
   "execution_count": 267,
   "metadata": {
    "scrolled": true
   },
   "outputs": [
    {
     "name": "stdout",
     "output_type": "stream",
     "text": [
      "+-------------------+--------------------+--------------+---------+\n",
      "|             artist|avg_instrumentalness|avg_popularity|num_songs|\n",
      "+-------------------+--------------------+--------------+---------+\n",
      "|               Coda|                 0.0|          61.0|        1|\n",
      "|       Liz Callaway|             1.46E-6|          41.0|        1|\n",
      "|       Patti Austin|                 0.0|          31.0|        1|\n",
      "|      Andrae Crouch|                 0.0|          31.0|        1|\n",
      "|        Daryl Coley|                 0.0|          31.0|        1|\n",
      "|       Commissioned|                 0.0|          31.0|        1|\n",
      "|POLYPHON WITH BELLS|             0.00107|          24.0|        1|\n",
      "|        Zero Mostel|                 0.0|          16.0|        1|\n",
      "|        Johnny Cash|                 0.0|           8.0|        1|\n",
      "|           Dave Koz|                 0.0|           4.0|        1|\n",
      "|     Brownie McGhee|        0.0118548175|          2.75|        4|\n",
      "+-------------------+--------------------+--------------+---------+\n",
      "\n"
     ]
    },
    {
     "ename": "TypeError",
     "evalue": "'NoneType' object is not subscriptable",
     "output_type": "error",
     "traceback": [
      "\u001b[0;31m---------------------------------------------------------------------------\u001b[0m",
      "\u001b[0;31mTypeError\u001b[0m                                 Traceback (most recent call last)",
      "\u001b[0;32m<ipython-input-267-852a98a7fdff>\u001b[0m in \u001b[0;36m<module>\u001b[0;34m\u001b[0m\n\u001b[1;32m     28\u001b[0m \u001b[0;34m\u001b[0m\u001b[0m\n\u001b[1;32m     29\u001b[0m \u001b[0mplt\u001b[0m\u001b[0;34m.\u001b[0m\u001b[0mfigure\u001b[0m\u001b[0;34m(\u001b[0m\u001b[0mfigsize\u001b[0m\u001b[0;34m=\u001b[0m\u001b[0;34m(\u001b[0m\u001b[0;36m12\u001b[0m\u001b[0;34m,\u001b[0m \u001b[0;36m6\u001b[0m\u001b[0;34m)\u001b[0m\u001b[0;34m)\u001b[0m\u001b[0;34m\u001b[0m\u001b[0;34m\u001b[0m\u001b[0m\n\u001b[0;32m---> 30\u001b[0;31m plt.scatter(query_3['avg_instrumentalness'], query_3['avg_popularity'], \n\u001b[0m\u001b[1;32m     31\u001b[0m             alpha=0.6, edgecolors='w', s=100)\n\u001b[1;32m     32\u001b[0m \u001b[0;34m\u001b[0m\u001b[0m\n",
      "\u001b[0;31mTypeError\u001b[0m: 'NoneType' object is not subscriptable"
     ]
    },
    {
     "data": {
      "text/plain": [
       "<Figure size 864x432 with 0 Axes>"
      ]
     },
     "metadata": {},
     "output_type": "display_data"
    }
   ],
   "source": [
    "# This will replace the brackets and split the string into an array\n",
    "data = data.withColumn(\"artists\", split(col(\"artists\"), \",\\s*\"))  # Split on comma\n",
    "\n",
    "# Now explode the artists column\n",
    "exploded_data = data.select(explode(data.artists).alias(\"artist\"), \"*\")\n",
    "exploded_data.createOrReplaceTempView(\"exploded_data\")\n",
    "\n",
    "# Now use the exploded DataFrame for the join\n",
    "query_3 = spark.sql(\"\"\"\n",
    "    SELECT \n",
    "        ed.artist AS artist, \n",
    "        AVG(ed.instrumentalness) AS avg_instrumentalness, \n",
    "        AVG(ed.popularity) AS avg_popularity, \n",
    "        COUNT(ed.name) AS num_songs\n",
    "    FROM \n",
    "        exploded_data ed\n",
    "    JOIN \n",
    "        data_by_artist da\n",
    "    ON \n",
    "        ed.artist = da.artists\n",
    "    WHERE \n",
    "        ed.popularity > 0  -- No filtering for popularity to see results\n",
    "    GROUP BY \n",
    "        ed.artist\n",
    "    ORDER BY \n",
    "        avg_popularity DESC\n",
    "\"\"\").show()\n"
   ]
  },
  {
   "cell_type": "markdown",
   "metadata": {},
   "source": [
    "#### Correlations between Loudness and energy in popular songs"
   ]
  },
  {
   "cell_type": "code",
   "execution_count": null,
   "metadata": {
    "scrolled": false
   },
   "outputs": [],
   "source": [
    "query_4 = spark.sql(\"\"\"\n",
    "    SELECT \n",
    "        regexp_replace(d.artists, '\\\\\\\\[|\\\\\\\\]|\\\\'','') AS artist,  -- Escape brackets and quotes\n",
    "        d.name AS song_name, \n",
    "        d.loudness AS song_loudness, \n",
    "        da.energy AS song_energy, \n",
    "        d.popularity AS song_popularity\n",
    "    FROM \n",
    "        data d\n",
    "    JOIN \n",
    "        data_by_artist da\n",
    "    ON \n",
    "        regexp_replace(d.artists, '\\\\\\\\[|\\\\\\\\]|\\\\'','') = da.artists  -- Match cleaned artist strings\n",
    "    WHERE \n",
    "        d.popularity > 60  -- Focusing on popular songs\n",
    "    ORDER BY \n",
    "        d.loudness DESC, da.energy DESC\n",
    "\"\"\").show()\n",
    "#Correlations between loudness and energy in popular songs"
   ]
  },
  {
   "cell_type": "markdown",
   "metadata": {},
   "source": [
    "## Simple Queries"
   ]
  },
  {
   "cell_type": "markdown",
   "metadata": {},
   "source": [
    "#### Top Genres by Danceability and Energy"
   ]
  },
  {
   "cell_type": "code",
   "execution_count": null,
   "metadata": {
    "scrolled": true
   },
   "outputs": [],
   "source": [
    "query1 = spark.sql(\"\"\"\n",
    "    SELECT genres, AVG(danceability) AS avg_danceability, AVG(energy) AS avg_energy\n",
    "    FROM data_by_genres\n",
    "    GROUP BY genres\n",
    "    ORDER BY avg_danceability DESC, avg_energy DESC\n",
    "    LIMIT 10\n",
    "\"\"\")\n",
    "query1.show()\n",
    "\n",
    "df1 = query1.toPandas()\n",
    "\n",
    "#Plotting\n",
    "plt.figure(figsize=(10, 6))\n",
    "plt.barh(df1[\"genres\"], df1[\"avg_danceability\"], color=\"blue\", label=\"Danceability\")\n",
    "plt.barh(df1[\"genres\"], df1[\"avg_energy\"], color=\"yellow\", alpha=0.5, label=\"Energy\")\n",
    "plt.xlabel(\"Average Danceability and Energy\")\n",
    "plt.ylabel(\"Genres\")\n",
    "plt.title(\"Top Genres by Danceability and Energy\")\n",
    "plt.legend()\n",
    "mplcursors.cursor(hover=True)\n",
    "plt.show()"
   ]
  },
  {
   "cell_type": "markdown",
   "metadata": {},
   "source": [
    "#### Longest Songs by Genres"
   ]
  },
  {
   "cell_type": "code",
   "execution_count": null,
   "metadata": {
    "scrolled": true
   },
   "outputs": [],
   "source": [
    "query2 = spark.sql(\"\"\"\n",
    "    SELECT genres, AVG(duration_ms)/60000 AS avg_duration_mins\n",
    "    FROM data_by_genres\n",
    "    GROUP BY genres\n",
    "    ORDER BY avg_duration_mins DESC\n",
    "    LIMIT 10\n",
    "\"\"\")\n",
    "query2.show()\n",
    "\n",
    "query2_df = query2.toPandas()\n",
    "\n",
    "plt.figure(figsize=(10, 6))\n",
    "plt.barh(query2_df[\"genres\"], query2_df[\"avg_duration_mins\"], color=\"purple\")\n",
    "plt.xlabel(\"Average Songs Duration (minutes)\")\n",
    "plt.ylabel(\"Genres\")\n",
    "plt.title(\"Longest Songs by Genres\")\n",
    "#plt.gca().invert_yaxis()\n",
    "mplcursors.cursor(hover=True)\n",
    "plt.show()\n",
    "#longest songs by genre"
   ]
  },
  {
   "cell_type": "markdown",
   "metadata": {},
   "source": [
    "#### Top10 Most Danceable Songs"
   ]
  },
  {
   "cell_type": "code",
   "execution_count": null,
   "metadata": {
    "scrolled": true
   },
   "outputs": [],
   "source": [
    "query3 = spark.sql(\"\"\"\n",
    "    SELECT year, artists, MAX(danceability) AS max_danceability, COUNT(name) as song_count\n",
    "    FROM data \n",
    "    GROUP BY year, artists\n",
    "    ORDER BY max_danceability DESC\n",
    "    LIMIT 10\n",
    "\"\"\")\n",
    "query3.show()\n",
    "\n",
    "query3_df = query3.toPandas()\n",
    "\n",
    "plt.figure(figsize=(10, 6))\n",
    "plt.barh(query3_df[\"artists\"], query3_df[\"max_danceability\"], color=\"green\")\n",
    "plt.xlabel(\"Danceability\")\n",
    "plt.ylabel(\"Artists\")\n",
    "plt.title(\"Top 10 Most Danceable Songs\")\n",
    "plt.gca().invert_yaxis()\n",
    "mplcursors.cursor(hover=True)\n",
    "plt.show()\n",
    "\n",
    "#Top10 most danceable songs by year"
   ]
  },
  {
   "cell_type": "code",
   "execution_count": null,
   "metadata": {},
   "outputs": [],
   "source": []
  }
 ],
 "metadata": {
  "kernelspec": {
   "display_name": "Python 3",
   "language": "python",
   "name": "python3"
  },
  "language_info": {
   "codemirror_mode": {
    "name": "ipython",
    "version": 3
   },
   "file_extension": ".py",
   "mimetype": "text/x-python",
   "name": "python",
   "nbconvert_exporter": "python",
   "pygments_lexer": "ipython3",
   "version": "3.8.6"
  }
 },
 "nbformat": 4,
 "nbformat_minor": 4
}
